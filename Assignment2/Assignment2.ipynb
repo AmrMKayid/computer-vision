{
 "cells": [
  {
   "cell_type": "markdown",
   "metadata": {},
   "source": [
    "<h1 align=center> Computer Vision: Assignment 2 </h1>"
   ]
  },
  {
   "cell_type": "markdown",
   "metadata": {},
   "source": [
    "| [<img src=\"https://avatars0.githubusercontent.com/u/18689888\" width=\"150px;\" height=\"150px;\"/><br /><sub><b>Amr M. Kayid</b></sub>](https://github.com/AmrMKayid)| [<img src=\"https://avatars2.githubusercontent.com/u/15708438\" width=\"150px;\" height=\"150px;\"/><br /><sub><b>Abdullah ELkady</b></sub>](https://github.com/AbdullahKady) |\n",
    "| :---: | :---: | \n",
    "| **37-15594** | **37-16401** |\n",
    "| **T10** | **T10** |"
   ]
  },
  {
   "cell_type": "code",
   "execution_count": null,
   "metadata": {},
   "outputs": [],
   "source": [
    "%reload_ext autoreload\n",
    "%autoreload 2\n",
    "%matplotlib inline"
   ]
  },
  {
   "cell_type": "code",
   "execution_count": null,
   "metadata": {},
   "outputs": [],
   "source": [
    "import math\n",
    "import numpy as np\n",
    "import matplotlib.pyplot as plt\n",
    "\n",
    "from PIL import Image\n",
    "\n",
    "import math\n",
    "import numpy as np\n",
    "import matplotlib.pyplot as plot\n",
    "import matplotlib.cm as cm\n",
    "import sys\n",
    "import pylab\n",
    "from matplotlib.widgets import Slider"
   ]
  },
  {
   "cell_type": "code",
   "execution_count": null,
   "metadata": {},
   "outputs": [],
   "source": [
    "cameraman_img = Image.open(\"Cameraman.tif\")\n",
    "plt.imshow(cameraman_img, cmap=\"gray\")"
   ]
  },
  {
   "cell_type": "markdown",
   "metadata": {},
   "source": [
    "# Problem 1\n",
    "\n",
    "\n",
    "Implement a function to compute the **Laplacian of Gaussian (LoG) kernel** given the value of sigma (𝜎). \n",
    "\n",
    "Deliverables:\n",
    "- Your code.\n",
    "- The output edge image for 𝜎 = 2, 𝜎 = 3 and 𝜎 = 4. Name the edge images “LoG_2.jpg”, “Log_3.jpg” and “Log_4.jpg”. The treshold for all cases should be set to 0.1."
   ]
  },
  {
   "cell_type": "markdown",
   "metadata": {},
   "source": [
    "First, you are asked to compute the size of the kernel as per the following equation:\n",
    "\\begin{equation}\n",
    "s=2 \\times\\lceil 3 \\times \\sigma\\rceil+ 1\n",
    "\\end{equation}"
   ]
  },
  {
   "cell_type": "code",
   "execution_count": null,
   "metadata": {},
   "outputs": [],
   "source": [
    "def compute_kernel_size(sigma: str) -> int:\n",
    "    return int((2 * np.ceil(3 * sigma)) + 1)"
   ]
  },
  {
   "cell_type": "markdown",
   "metadata": {},
   "source": [
    "Given the size of the kernel (𝑠 × 𝑠), implement a function to compute the values inside as per the following function ([0,0] is the middle cell):\n",
    "\\begin{equation}\n",
    "\\operatorname{LoG}(x, y)=\\frac{-1}{\\pi \\sigma^{4}}\\left(1-\\frac{x^{2}+y^{2}}{2 \\sigma^{2}}\\right) e^{-\\frac{x^{2}+y^{2}}{2 \\sigma^{2}}}\n",
    "\\end{equation}"
   ]
  },
  {
   "cell_type": "code",
   "execution_count": null,
   "metadata": {},
   "outputs": [],
   "source": [
    "def log_(x: float, y: float, sigma: float) -> float:\n",
    "    n1 = (-1. / (math.pi * sigma**4))\n",
    "    common = (x**2 + y**2) / (2 * sigma**2)\n",
    "    n2 = (1. - common)\n",
    "    n3 = math.exp(-common)\n",
    "    return n1 * n2 * n3"
   ]
  },
  {
   "cell_type": "code",
   "execution_count": null,
   "metadata": {},
   "outputs": [],
   "source": [
    "range_ = lambda start, end: range(start, end+1)"
   ]
  },
  {
   "cell_type": "code",
   "execution_count": null,
   "metadata": {},
   "outputs": [],
   "source": [
    "def compute_log_mask(sigma: float) -> np.ndarray:\n",
    "    mask_width = compute_kernel_size(sigma)\n",
    "    \n",
    "    log_mask = []\n",
    "    w_range = int(math.floor(mask_width / 2.))\n",
    "    print('Going from {} to range {}'.format(-w_range, w_range))\n",
    "    for x in range_(-w_range, w_range):\n",
    "        for y in range_(-w_range, w_range):\n",
    "            log_mask.append(log_(x, y, sigma))\n",
    "            \n",
    "    log_mask = np.array(log_mask)\n",
    "    log_mask = log_mask.reshape(mask_width, mask_width)\n",
    "    return log_mask"
   ]
  },
  {
   "cell_type": "code",
   "execution_count": null,
   "metadata": {},
   "outputs": [],
   "source": [
    "def convolve(image, mask):\n",
    "    image = np.array(image)\n",
    "    width = image.shape[1]\n",
    "    height = image.shape[0]\n",
    "    w_range = int(math.floor(mask.shape[0] / 2.))\n",
    "    \n",
    "    new_image = np.zeros((height, width))\n",
    "\n",
    "    for i in range(w_range, width-w_range):\n",
    "        for j in range(w_range, height-w_range):\n",
    "            for k in range_(-w_range, w_range):\n",
    "                for h in range_(-w_range,w_range):\n",
    "                    new_image[j, i] += mask[w_range + h,w_range+k] * image[j + h, i + k]\n",
    "    return new_image"
   ]
  },
  {
   "cell_type": "code",
   "execution_count": null,
   "metadata": {},
   "outputs": [],
   "source": [
    "def prewitt(image):\n",
    "    vertical = np.array([[-1, 0, 1], \n",
    "                         [-1, 0, 1],\n",
    "                         [-1 ,0, 1]])\n",
    "    horizontal = np.array([[-1, -1, -1], \n",
    "                         [0, 0, 0],\n",
    "                         [1 ,1, 1]])\n",
    "    vertical_image = convolve(image, vertical)    \n",
    "    horizontal_image = convolve(image, horizontal)    \n",
    "    gradient_magnitude = np.sqrt(vertical_image**2 + horizontal_image**2)\n",
    "    \n",
    "    return gradient_magnitude"
   ]
  },
  {
   "cell_type": "code",
   "execution_count": null,
   "metadata": {},
   "outputs": [],
   "source": [
    "def normalize(image, min_val, max_val):\n",
    "    min_ = np.min(image)\n",
    "    max_ = np.max(image)\n",
    "    normalized = ((image - min_) / (max_ - min_)) * (max_val - min_val) + min_val\n",
    "    return normalized"
   ]
  },
  {
   "cell_type": "code",
   "execution_count": null,
   "metadata": {},
   "outputs": [],
   "source": [
    "def run_log_edge_detection(image, sigma, threshold):\n",
    "    image = np.array(image)\n",
    "    \n",
    "    print(\"creating mask\")\n",
    "    log_mask = compute_log_mask(sigma)\n",
    "    \n",
    "    print(\"smoothing the image by convolving with the log_ mask\")\n",
    "    log_image = convolve(image, log_mask)\n",
    "    output_image = np.zeros_like(log_image)\n",
    "    \n",
    "    prewitt_image = normalize(prewitt(image), 0, 1)\n",
    "    \n",
    "    for i in range(1, log_image.shape[0] - 1):\n",
    "        for j in range(1, log_image.shape[1] - 1):\n",
    "            value = log_image[i][j]\n",
    "            kernel = log_image[i-1:i+2, j-1:j+2]\n",
    "            k_min = kernel.min()\n",
    "            k_max = kernel.max()\n",
    "            is_zero_crossing = False\n",
    "            if (value > 0 and k_min < 0) or (value < 0 and k_max > 0) or (value == 0):\n",
    "                is_zero_crossing = True\n",
    "            \n",
    "            if (prewitt_image[i][j] > threshold) and is_zero_crossing:\n",
    "                output_image[i][j] = 1\n",
    "            \n",
    "    \n",
    "    plt.imshow(prewitt_image, cmap ='gray')\n",
    "    plt.imshow(output_image, cmap='gray')"
   ]
  },
  {
   "cell_type": "code",
   "execution_count": null,
   "metadata": {},
   "outputs": [],
   "source": [
    "cameraman_img = Image.open(\"Cameraman.tif\")\n",
    "plt.imshow(cameraman_img, cmap=\"gray\")"
   ]
  },
  {
   "cell_type": "code",
   "execution_count": null,
   "metadata": {
    "scrolled": true
   },
   "outputs": [],
   "source": [
    "run_log_edge_detection(cameraman_img, 2, 0.1)\n",
    "plt.savefig('LoG_2.jpg')"
   ]
  },
  {
   "cell_type": "code",
   "execution_count": null,
   "metadata": {},
   "outputs": [],
   "source": [
    "run_log_edge_detection(cameraman_img, 3, 0.1)\n",
    "plt.savefig('LoG_3.jpg')"
   ]
  },
  {
   "cell_type": "code",
   "execution_count": null,
   "metadata": {},
   "outputs": [],
   "source": [
    "run_log_edge_detection(cameraman_img, 4, 0.1)\n",
    "plt.savefig('LoG_4.jpg')"
   ]
  },
  {
   "cell_type": "markdown",
   "metadata": {},
   "source": [
    "# Problem 2\n",
    "\n",
    "\n",
    "Implement a function to sharpen a gray-scale image as per the discussion provided in the tutorial. As a possible kernel for edge detection, consider the kernel provided below. Apply your function to the image “cameraman.tif”.\n",
    "\n",
    "\\begin{equation}\n",
    "M=\\left[\\begin{array}{ccc}{-1} & {-1} & {-1} \\\\ {-1} & {8} & {-1} \\\\ {-1} & {-1} & {-1}\\end{array}\\right]\n",
    "\\end{equation}\n",
    "\n",
    "Deliverables:\n",
    "- Your code.\n",
    "- The sharpened output image. Name the image “Sharpened.jpg”"
   ]
  },
  {
   "cell_type": "code",
   "execution_count": null,
   "metadata": {},
   "outputs": [],
   "source": [
    "original_image = np.array(cameraman_img)\n",
    "sharpening_layer = np.zeros_like(original_image)\n",
    "\n",
    "sharpening_layer = convolve(original_image, np.array([[-1, -1, -1], [-1, 8, -1], [-1, -1, -1]]))\n",
    "output_sharpened =  0.1 * sharpening_layer + original_image\n",
    "\n",
    "# Apply threshold so that the ranges stay within 0-255\n",
    "output_sharpened[output_sharpened > 255] = 255\n",
    "output_sharpened[output_sharpened < 0] = 0\n",
    "\n",
    "plt.imshow(output_sharpened, cmap=cm.gray)\n",
    "plt.savefig('Sharpened.jpg')"
   ]
  }
 ],
 "metadata": {
  "kernelspec": {
   "display_name": "Python 3",
   "language": "python",
   "name": "python3"
  },
  "language_info": {
   "codemirror_mode": {
    "name": "ipython",
    "version": 3
   },
   "file_extension": ".py",
   "mimetype": "text/x-python",
   "name": "python",
   "nbconvert_exporter": "python",
   "pygments_lexer": "ipython3",
   "version": "3.5.2"
  }
 },
 "nbformat": 4,
 "nbformat_minor": 2
}
