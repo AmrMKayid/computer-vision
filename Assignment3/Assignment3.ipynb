{
 "cells": [
  {
   "cell_type": "markdown",
   "metadata": {},
   "source": [
    "<h1 align=center> Computer Vision: Assignment 2 </h1>"
   ]
  },
  {
   "cell_type": "markdown",
   "metadata": {},
   "source": [
    "| [<img src=\"https://avatars0.githubusercontent.com/u/18689888\" width=\"150px;\" height=\"150px;\"/><br /><sub><b>Amr M. Kayid</b></sub>](https://github.com/AmrMKayid)| [<img src=\"https://avatars2.githubusercontent.com/u/15708438\" width=\"150px;\" height=\"150px;\"/><br /><sub><b>Abdullah Elkady</b></sub>](https://github.com/AbdullahKady) |\n",
    "| :---: | :---: | \n",
    "| **37-15594** | **37-16401** |\n",
    "| **T10** | **T10** |"
   ]
  },
  {
   "cell_type": "code",
   "execution_count": null,
   "metadata": {},
   "outputs": [],
   "source": [
    "import numpy as np\n",
    "import matplotlib.pyplot as plt"
   ]
  },
  {
   "cell_type": "code",
   "execution_count": null,
   "metadata": {},
   "outputs": [],
   "source": [
    "original_image = plt.imread(\"GUC.jpg\")\n",
    "plt.imshow(original_image, cmap=\"gray\")"
   ]
  },
  {
   "cell_type": "code",
   "execution_count": null,
   "metadata": {},
   "outputs": [],
   "source": [
    "def get_thresholds(image, N):\n",
    "    \"\"\"\n",
    "    N is the number of thresholds, thus should result in n + 1 segments/colors\n",
    "    \n",
    "    Returns a list of thresholds (size N).\n",
    "    \"\"\"\n",
    "    \n",
    "    thresholds = [n * (255 / (N+1)) for n in range(N+2)] # 2 extra bounds (0&255)\n",
    "    old_thresholds = [0, *[None]*N, 255]\n",
    "    \n",
    "    while thresholds != old_thresholds:\n",
    "        threshold_tuples = list(zip(thresholds[:-2], thresholds[1:-1], thresholds[2:]))\n",
    "        for i, (t1, t2, t3) in enumerate(threshold_tuples):\n",
    "            mean_1 = image[(image >= t1) & (image < t2)].mean()\n",
    "            mean_2 = image[(image >= t2) & (image < t3)].mean()\n",
    "            old_thresholds[i+1] = thresholds[i+1] # To avoid reference comparision :(\n",
    "            thresholds[i+1] = (mean_1+mean_2)/2\n",
    "    return thresholds # Exclude the ones used for calculations (0&255)"
   ]
  },
  {
   "cell_type": "code",
   "execution_count": null,
   "metadata": {},
   "outputs": [],
   "source": [
    "def threshold_image(image, threshold):\n",
    "    # Thresholds (binarizes) 'image' according to 'threshold'? Duhh! \\_0_/\n",
    "    result = np.zeros_like(image)\n",
    "    result[image >= threshold] = 255\n",
    "    result[image < threshold] = 0\n",
    "    return result"
   ]
  },
  {
   "cell_type": "code",
   "execution_count": null,
   "metadata": {},
   "outputs": [],
   "source": [
    "def segment_image(image, N):\n",
    "    \"\"\"\n",
    "    N is the number of thresholds, thus should result in n + 1 segments/colors\n",
    "\n",
    "    Returns a tuple (thresholds, binary_images, gray_scale_image)\n",
    "    Where:\n",
    "        - thresholds: a list of the thresholds (size=N)\n",
    "        - binary_images: a list of images of each segment (size=N)\n",
    "        - gray_scale_image: a single image, with (N+1) colors representing the segments\n",
    "    \"\"\"\n",
    "    \n",
    "    thresholds = get_thresholds(image, N)\n",
    "    binary_images = [threshold_image(image, threshold) for threshold in thresholds[1:-1]] # Ignore the bounds(0&255)\n",
    "    shades = [n * (255 / (N)) for n in range(N+1)] # Colors as far as possible (according to ratio 255/(N+1))\n",
    "    gray_scale_image = np.copy(image)\n",
    "    for shade, (t1, t2) in zip(shades, zip(thresholds[:-1], thresholds[1: ])):\n",
    "        gray_scale_image[(image>=t1) & (image<t2)] = shade\n",
    "    return thresholds[1:-1], binary_images, gray_scale_image"
   ]
  },
  {
   "cell_type": "code",
   "execution_count": null,
   "metadata": {},
   "outputs": [],
   "source": [
    "def save_image(fname, arr, vmin=None, vmax=None, cmap='gray', format=None, origin=None):\n",
    "    # Shamelessly stolen from matplotlib svn source code, to avoid using Pillow:\n",
    "    # https://stackoverflow.com/a/978306/7502260 (Save image without axes)\n",
    "    from matplotlib.backends.backend_agg import FigureCanvasAgg as FigureCanvas\n",
    "    from matplotlib.figure import Figure\n",
    "\n",
    "    fig = Figure(figsize=arr.shape[::-1], dpi=1, frameon=False)\n",
    "    canvas = FigureCanvas(fig)\n",
    "    fig.figimage(arr, cmap=cmap, vmin=vmin, vmax=vmax, origin=origin)\n",
    "    fig.savefig(fname, dpi=1, format=format)"
   ]
  },
  {
   "cell_type": "code",
   "execution_count": null,
   "metadata": {},
   "outputs": [],
   "source": [
    "def save_output(thresholds, b_images, g_image):\n",
    "    # Saves to the file-system according to the assignment requirements.\n",
    "    thresholds_count = len(thresholds)\n",
    "    with open('Thresholds_{}.txt'.format(thresholds_count), 'w') as text_file:\n",
    "        text_file.write(','.join([str(t) for t in thresholds]))\n",
    "\n",
    "    for i, b_img in enumerate(b_images):\n",
    "        save_image('GUC_{}_{}.jpg'.format(thresholds_count, i+1), b_img)\n",
    "    save_image('GUC_{}.jpg'.format(thresholds_count), g_image)"
   ]
  },
  {
   "cell_type": "code",
   "execution_count": null,
   "metadata": {},
   "outputs": [],
   "source": [
    "save_output(*segment_image(original_image, 3))"
   ]
  },
  {
   "cell_type": "code",
   "execution_count": null,
   "metadata": {},
   "outputs": [],
   "source": [
    "save_output(*segment_image(original_image, 4))"
   ]
  }
 ],
 "metadata": {
  "kernelspec": {
   "display_name": "Python 3",
   "language": "python",
   "name": "python3"
  },
  "language_info": {
   "codemirror_mode": {
    "name": "ipython",
    "version": 3
   },
   "file_extension": ".py",
   "mimetype": "text/x-python",
   "name": "python",
   "nbconvert_exporter": "python",
   "pygments_lexer": "ipython3",
   "version": "3.5.2"
  }
 },
 "nbformat": 4,
 "nbformat_minor": 2
}
